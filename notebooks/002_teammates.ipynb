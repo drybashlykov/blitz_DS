{
 "cells": [
  {
   "cell_type": "code",
   "execution_count": 41,
   "id": "14bfe0d8-dc24-448a-b8d2-5374b4b078d7",
   "metadata": {
    "tags": []
   },
   "outputs": [],
   "source": [
    "import numpy as np\n",
    "import cv2\n",
    "from pprint import pprint\n",
    "import ffmpeg\n",
    "import sys\n",
    "import matplotlib.pyplot as plt\n",
    "from IPython.display import clear_output\n",
    "import time\n",
    "import imageio\n",
    "\n",
    "from scipy.ndimage import gaussian_filter\n",
    "from sklearn.cluster import KMeans\n",
    "\n",
    "sys.path.append('../')\n",
    "\n",
    "from precondition import *\n",
    "from detect_teammates import *\n",
    "\n",
    "import importlib\n",
    "importlib.reload(sys.modules['detect_teammates'])\n",
    "from precondition import *\n",
    "from detect_teammates import *"
   ]
  },
  {
   "cell_type": "code",
   "execution_count": 42,
   "id": "be4f7532-c8ea-4cc0-bd23-261b5bb474c0",
   "metadata": {},
   "outputs": [],
   "source": [
    "with open(\"../sequences/test_2.seq\", mode = 'rb') as f:\n",
    "    seq = np.fromfile(f, dtype = np.uint8)\n",
    "width = 272\n",
    "height = 272\n",
    "channels = 3\n",
    "n_frames = int(seq.shape[0] / width / height / channels)\n",
    "seq = np.reshape(seq, (width, height, channels, n_frames))"
   ]
  },
  {
   "cell_type": "code",
   "execution_count": 38,
   "id": "0290fd03-e40d-43a2-afef-b5d19a56071e",
   "metadata": {},
   "outputs": [
    {
     "name": "stdout",
     "output_type": "stream",
     "text": [
      "5\n"
     ]
    }
   ],
   "source": [
    "#seq = cut_first_minute(filename)\n",
    "bp_seq = band_pass_filter_seq(seq)\n",
    "bp_seq_bgr = 255 * np.repeat(np.expand_dims(bp_seq.astype(np.uint8), axis = 2), 3, axis = 2)\n",
    "team_blobs = filter_sequence(bp_seq_bgr, find_player_filter, s = 3, threshold = 100)\n",
    "nightmare_seq = clusters_sequence(team_blobs * 255)"
   ]
  },
  {
   "cell_type": "code",
   "execution_count": null,
   "id": "377e6eef-5fd9-4dda-a70c-d1917b7db63a",
   "metadata": {
    "tags": []
   },
   "outputs": [],
   "source": [
    "# with open(\"../sequences/test_2.seq\", mode = 'wb') as f:\n",
    "#     seq.tofile(f)    "
   ]
  },
  {
   "cell_type": "code",
   "execution_count": 49,
   "id": "9a2359d8-cfe4-4c4d-a3b3-3f82fbbbb5d9",
   "metadata": {},
   "outputs": [
    {
     "data": {
      "text/plain": [
       "0"
      ]
     },
     "execution_count": 49,
     "metadata": {},
     "output_type": "execute_result"
    }
   ],
   "source": [
    "play_sequence(nightmare_seq)"
   ]
  },
  {
   "cell_type": "code",
   "execution_count": 46,
   "id": "a56501dd-92c9-4f50-83a6-da6b01277623",
   "metadata": {},
   "outputs": [],
   "source": [
    "def is_in(array, coords):\n",
    "    for i in range(array.shape[0]):\n",
    "        if (coords == array[i]).all():\n",
    "            return True\n",
    "    return False"
   ]
  },
  {
   "cell_type": "code",
   "execution_count": 45,
   "id": "87860bb3-2b2a-4167-8b1d-ef029995c260",
   "metadata": {},
   "outputs": [
    {
     "data": {
      "image/png": "[encoded data removed]",
      "text/plain": [
       "<Figure size 640x480 with 1 Axes>"
      ]
     },
     "metadata": {},
     "output_type": "display_data"
    }
   ],
   "source": [
    "test_frame = team_blobs[:,:,:,10] * 255\n",
    "plt.imshow(test_frame)\n",
    "plt.show()"
   ]
  },
  {
   "cell_type": "code",
   "execution_count": 48,
   "id": "6dd7c9fe-2e7b-4ee1-9e11-4823aeb95abe",
   "metadata": {},
   "outputs": [
    {
     "name": "stdout",
     "output_type": "stream",
     "text": [
      "7.04 s ± 53 ms per loop (mean ± std. dev. of 7 runs, 1 loop each)\n"
     ]
    }
   ],
   "source": [
    "%%timeit\n",
    "N, CA_test = connected_areas(test_frame[:,:,0])"
   ]
  },
  {
   "cell_type": "code",
   "execution_count": 100,
   "id": "cd86d602-0f48-4a4e-9d8e-5116dc17d427",
   "metadata": {},
   "outputs": [
    {
     "name": "stdout",
     "output_type": "stream",
     "text": [
      "0 479.0\n",
      "1 132.0\n"
     ]
    }
   ],
   "source": [
    "n_tanks = np.zeros(N, dtype = int)\n",
    "size_threshold = 200\n",
    "for i in range(N):\n",
    "    upper_bound, lower_bound = np.quantile(np.where(CA_test == i)[0], [0.05, 0.95])\n",
    "    left_bound, right_bound = np.quantile(np.where(CA_test == i)[1], [0.05, 0.95])\n",
    "    size = (upper_bound - lower_bound) * (left_bound - right_bound)\n",
    "    if size < size_threshold:\n",
    "        n_tanks[i] = 1\n",
    "    print(i, size)\n",
    "for i in range(N):\n",
    "    if n_tanks[i] == 0:\n",
    "        n_tanks[i] = int(6 - n_tanks.sum()/(n_tanks == 0).sum())"
   ]
  },
  {
   "cell_type": "code",
   "execution_count": 57,
   "id": "8e919569-0242-497e-8004-c808217120b6",
   "metadata": {},
   "outputs": [],
   "source": [
    "nightmare_seq_rgb = []\n",
    "for i in range(0, nightmare_seq.shape[-1], 23):\n",
    "    nightmare_seq_rgb.append(cv2.cvtColor(nightmare_seq[:,:,:,i], cv2.COLOR_BGR2RGB))"
   ]
  },
  {
   "cell_type": "code",
   "execution_count": 52,
   "id": "bc30891a-b943-49c1-ab2d-c079970346cd",
   "metadata": {},
   "outputs": [
    {
     "data": {
      "text/plain": [
       "0"
      ]
     },
     "execution_count": 52,
     "metadata": {},
     "output_type": "execute_result"
    }
   ],
   "source": [
    "play_sequence(nightmare_seq[:,:,:,::23])"
   ]
  },
  {
   "cell_type": "code",
   "execution_count": 58,
   "id": "03a7f6f7-2139-46c0-b13e-e6f481fd509d",
   "metadata": {},
   "outputs": [],
   "source": [
    "imageio.mimsave(\"clusters_updated.gif\", nightmare_seq_rgb)"
   ]
  },
  {
   "cell_type": "code",
   "execution_count": 101,
   "id": "fd129182-ca5f-4ac7-88c3-96f8d06c5345",
   "metadata": {},
   "outputs": [
    {
     "data": {
      "text/plain": [
       "array([5, 1])"
      ]
     },
     "execution_count": 101,
     "metadata": {},
     "output_type": "execute_result"
    }
   ],
   "source": [
    "n_tanks"
   ]
  },
  {
   "cell_type": "code",
   "execution_count": 97,
   "id": "6423da7a-acab-4067-92a0-3e951503c78d",
   "metadata": {},
   "outputs": [],
   "source": [
    "n_tanks = np.array([0, 1, 1, 0])"
   ]
  },
  {
   "cell_type": "code",
   "execution_count": 99,
   "id": "f58fa3a1-e14e-4746-9119-38ea9db7f199",
   "metadata": {},
   "outputs": [
    {
     "data": {
      "text/plain": [
       "2"
      ]
     },
     "execution_count": 99,
     "metadata": {},
     "output_type": "execute_result"
    }
   ],
   "source": [
    "(n_tanks == 0).sum()"
   ]
  },
  {
   "cell_type": "code",
   "execution_count": 83,
   "id": "45657771-3f65-4f6f-993d-38866404982f",
   "metadata": {},
   "outputs": [
    {
     "data": {
      "text/plain": [
       "94.0"
      ]
     },
     "execution_count": 83,
     "metadata": {},
     "output_type": "execute_result"
    }
   ],
   "source": [
    "right_bound"
   ]
  },
  {
   "cell_type": "code",
   "execution_count": 74,
   "id": "c2de84e9-ef89-4a1a-a09e-da9822445f80",
   "metadata": {},
   "outputs": [
    {
     "data": {
      "text/plain": [
       "array([20, 20, 20, 20, 20, 21, 21, 21, 21, 21, 21, 21, 21, 21, 21, 22, 22,\n",
       "       22, 22, 22, 22, 22, 22, 22, 22, 22, 22, 23, 23, 23, 23, 23, 23, 23,\n",
       "       23, 23, 23, 23, 23, 23, 24, 24, 24, 24, 24, 24, 24, 24, 24, 24, 24,\n",
       "       24, 24, 25, 25, 25, 25, 25, 25, 25, 25, 25, 25, 25, 25, 25, 26, 26,\n",
       "       26, 26, 26, 26, 26, 26, 26, 26, 26, 26, 27, 27, 27, 27, 27, 27, 27,\n",
       "       27, 27, 27, 27, 28, 28, 28, 28, 28, 28, 28, 28, 28, 28, 29, 29, 29,\n",
       "       29, 29, 29, 29, 29, 29, 30, 30, 30, 30, 30, 30, 30, 30, 31, 31, 31,\n",
       "       31, 31, 31, 31, 32, 32, 32, 32, 32, 33])"
      ]
     },
     "execution_count": 74,
     "metadata": {},
     "output_type": "execute_result"
    }
   ],
   "source": [
    "np.where(CA_test == 0)[0]"
   ]
  },
  {
   "cell_type": "code",
   "execution_count": 16,
   "id": "35b3c98e-d58f-46e0-aea3-47529700c95e",
   "metadata": {},
   "outputs": [],
   "source": [
    "all_points = np.transpose(np.where(T))"
   ]
  },
  {
   "cell_type": "code",
   "execution_count": 20,
   "id": "ea398583-eedb-4318-aed1-9f9818b587ff",
   "metadata": {},
   "outputs": [
    {
     "data": {
      "text/plain": [
       "765"
      ]
     },
     "execution_count": 20,
     "metadata": {},
     "output_type": "execute_result"
    }
   ],
   "source": [
    "all_points.shape[0]"
   ]
  },
  {
   "cell_type": "code",
   "execution_count": 39,
   "id": "af348e89-1c03-45c1-8d87-8bee058a5422",
   "metadata": {},
   "outputs": [
    {
     "data": {
      "text/plain": [
       "True"
      ]
     },
     "execution_count": 39,
     "metadata": {},
     "output_type": "execute_result"
    }
   ],
   "source": []
  },
  {
   "cell_type": "code",
   "execution_count": null,
   "id": "f2ce6f86-66ef-4cc0-ac29-224917c0a88d",
   "metadata": {},
   "outputs": [],
   "source": [
    "all_points"
   ]
  },
  {
   "cell_type": "code",
   "execution_count": null,
   "id": "01dd4767-2358-4611-8778-f26d2d042b1a",
   "metadata": {},
   "outputs": [],
   "source": []
  },
  {
   "cell_type": "code",
   "execution_count": null,
   "id": "ee540072-bf86-4d4e-8d05-f946b3ba2202",
   "metadata": {},
   "outputs": [
    {
     "data": {
      "text/plain": [
       "0"
      ]
     },
     "execution_count": 19,
     "metadata": {},
     "output_type": "execute_result"
    }
   ],
   "source": [
    "play_sequence(np.diff(team_blobs[:,:,:,:]*255, axis = -1))"
   ]
  },
  {
   "cell_type": "code",
   "execution_count": null,
   "id": "5ce0395f-bcd6-4082-b0ab-c472dee6eff4",
   "metadata": {},
   "outputs": [],
   "source": [
    "diff_sum = np.sum(np.diff(team_blobs[:,:,:,:]*255, axis = -1), axis = (0,1,2))"
   ]
  },
  {
   "cell_type": "code",
   "execution_count": null,
   "id": "8ddcfbde-51fd-468d-b1f7-5dd5bb985cc7",
   "metadata": {},
   "outputs": [
    {
     "data": {
      "image/png": "[encoded data removed]",
      "text/plain": [
       "<Figure size 640x480 with 1 Axes>"
      ]
     },
     "metadata": {},
     "output_type": "display_data"
    }
   ],
   "source": [
    "plt.plot(diff_sum)\n",
    "plt.show()"
   ]
  },
  {
   "cell_type": "code",
   "execution_count": null,
   "id": "0ba06323-bc1f-4e2f-bfc7-b77c39712533",
   "metadata": {},
   "outputs": [],
   "source": []
  }
 ],
 "metadata": {
  "kernelspec": {
   "display_name": "Python 3",
   "language": "python",
   "name": "python3"
  },
  "language_info": {
   "codemirror_mode": {
    "name": "ipython",
    "version": 3
   },
   "file_extension": ".py",
   "mimetype": "text/x-python",
   "name": "python",
   "nbconvert_exporter": "python",
   "pygments_lexer": "ipython3",
   "version": "3.9.13"
  }
 },
 "nbformat": 4,
 "nbformat_minor": 5
}
