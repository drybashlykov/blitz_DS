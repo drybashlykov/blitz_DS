{
 "cells": [
  {
   "cell_type": "code",
   "execution_count": 1,
   "id": "14bfe0d8-dc24-448a-b8d2-5374b4b078d7",
   "metadata": {},
   "outputs": [],
   "source": [
    "import numpy as np\n",
    "import cv2\n",
    "from pprint import pprint\n",
    "import ffmpeg\n",
    "import sys\n",
    "import matplotlib.pyplot as plt\n",
    "from IPython.display import clear_output\n",
    "import time"
   ]
  },
  {
   "cell_type": "code",
   "execution_count": 2,
   "id": "fc54a855-c2b8-4fd4-98e3-aee222d2f14e",
   "metadata": {},
   "outputs": [],
   "source": [
    "filename = \"/home/dmitry/work/open_source_stuff/blitz_DS/replay_videos/test.mp4\" #5396 frames 4 minutes 0 seconds"
   ]
  },
  {
   "cell_type": "code",
   "execution_count": 3,
   "id": "d8b05483-4d1d-402e-af6a-48511db62576",
   "metadata": {},
   "outputs": [],
   "source": [
    "def count_frames(filename):\n",
    "    counter = 0\n",
    "    cap = cv2.VideoCapture(filename)\n",
    "    ret = 1\n",
    "    while(ret):\n",
    "        ret, _ = cap.read()\n",
    "        counter += 1\n",
    "    counter -= 1 #the last cycle passed with no frame\n",
    "    cap.release()\n",
    "    return counter\n",
    "\n",
    "def get_nbframes(filename):\n",
    "    return int(ffmpeg.probe(filename)['streams'][1]['nb_frames'])\n",
    "\n",
    "def get_frame(filename, n_frame):\n",
    "    cap = cv2.VideoCapture(filename)\n",
    "    for i in range(n_frame - 1):\n",
    "        cap.read()\n",
    "    _, frame = cap.read()\n",
    "    return frame\n",
    "\n",
    "def show_frame(frame, time = 5000):\n",
    "    cv2.imshow(\"frame\", frame)\n",
    "    cv2.waitKey(time)\n",
    "    cv2.destroyAllWindows()\n",
    "    \n",
    "def get_similarity(filename):\n",
    "    bins = 60\n",
    "    histSize = [bins]\n",
    "    ranges = [0, 255]\n",
    "\n",
    "    reference = cv2.imread(\"test_frame.png\")[0:272, 276:552]\n",
    "    ref_hsv = cv2.cvtColor(reference, cv2.COLOR_BGR2HSV)\n",
    "    ref_hue_hist = cv2.calcHist(ref_hsv, [0], None, histSize, ranges)\n",
    "\n",
    "    hue_similarities = []\n",
    "    cap = cv2.VideoCapture(filename)\n",
    "    for i in range(get_nbframes(filename)):\n",
    "        #print(i, end = None)\n",
    "        _, frame = cap.read()\n",
    "        ROI = frame[0:272, 276:552]\n",
    "        ROI_hsv = cv2.cvtColor(ROI, cv2.COLOR_BGR2HSV)\n",
    "        hue_hist = cv2.calcHist(ROI_hsv, [0], None, histSize, ranges)\n",
    "        hue_similarity = cv2.compareHist(hue_hist, ref_hue_hist, method = 0)\n",
    "\n",
    "        hue_similarities.append(hue_similarity)\n",
    "        #clear_output(wait = True)\n",
    "    cap.release()\n",
    "    return hue_similarities\n",
    "\n",
    "def find_battle_start(filename, threshold = 0.2):\n",
    "    bins = 60\n",
    "    histSize = [bins]\n",
    "    ranges = [0, 255]\n",
    "\n",
    "    reference = cv2.imread(\"test_frame.png\")[0:272, 276:552]\n",
    "    ref_hsv = cv2.cvtColor(reference, cv2.COLOR_BGR2HSV)\n",
    "    ref_hue_hist = cv2.calcHist(ref_hsv, [0], None, histSize, ranges)\n",
    "\n",
    "    hue_similarities = []\n",
    "    cap = cv2.VideoCapture(filename)\n",
    "    status = True\n",
    "    similarity = 0\n",
    "    \n",
    "    counter = 0\n",
    "    while(status and similarity < 0.2):\n",
    "        counter += 1\n",
    "        status, frame = cap.read()\n",
    "        ROI = frame[0:272, 276:552]\n",
    "        ROI_hsv = cv2.cvtColor(ROI, cv2.COLOR_BGR2HSV)\n",
    "        hue_hist = cv2.calcHist(ROI_hsv, [0], None, histSize, ranges)\n",
    "        similarity = cv2.compareHist(hue_hist, ref_hue_hist, method = 0)\n",
    "    print(\"Battle start frame: \", counter)\n",
    "    return cap\n",
    "\n",
    "def cut_first_minute(filename):\n",
    "    cap = find_battle_start(filename)\n",
    "    n_frames = 60 * 23\n",
    "    sequence = np.zeros((272, 552 - 276, 3, n_frames), dtype = np.uint8)\n",
    "    for i in range(60 * 23):\n",
    "        _, frame = cap.read()\n",
    "        sequence[:,:,:,i] = frame[0:272, 276:552, :]\n",
    "        if cv2.waitKey(25) & 0xFF == ord('q'):\n",
    "            break\n",
    "    cv2.destroyAllWindows()\n",
    "    return sequence\n",
    "\n",
    "def play_sequence(seq):\n",
    "    n_frames = seq.shape[-1]\n",
    "    for i in range(n_frames):\n",
    "        cv2.imshow(\"sequence\", seq[:,:,:,i])\n",
    "        if cv2.waitKey(25) & 0xFF == ord('q'):\n",
    "            break\n",
    "    cv2.destroyAllWindows()\n",
    "    return 0"
   ]
  },
  {
   "cell_type": "code",
   "execution_count": 17,
   "id": "af905320-6d10-4dfb-bb8b-c991144a2184",
   "metadata": {},
   "outputs": [
    {
     "name": "stdout",
     "output_type": "stream",
     "text": [
      "Battle start frame:  305\n"
     ]
    }
   ],
   "source": [
    "seq = cut_first_minute(filename)"
   ]
  },
  {
   "cell_type": "code",
   "execution_count": 16,
   "id": "eaf8fb85-70f2-44ec-888f-3cf24e27b0aa",
   "metadata": {},
   "outputs": [
    {
     "data": {
      "text/plain": [
       "0"
      ]
     },
     "execution_count": 16,
     "metadata": {},
     "output_type": "execute_result"
    }
   ],
   "source": [
    "play_sequence(seq)"
   ]
  },
  {
   "cell_type": "code",
   "execution_count": 36,
   "id": "1629187e-49bb-4849-a667-c62871b4efd4",
   "metadata": {},
   "outputs": [],
   "source": [
    "test_frame = seq[:,:,:,500].copy()"
   ]
  },
  {
   "cell_type": "code",
   "execution_count": 109,
   "id": "bbe8c822-2c69-45a4-be64-8bfab333dc2c",
   "metadata": {},
   "outputs": [],
   "source": [
    "from scipy.ndimage import gaussian_filter\n",
    "from sklearn.cluster import KMeans"
   ]
  },
  {
   "cell_type": "code",
   "execution_count": 69,
   "id": "5406e3b8-0bcd-457b-840f-bac25fd5a791",
   "metadata": {},
   "outputs": [
    {
     "data": {
      "image/png": "[encoded data removed]",
      "text/plain": [
       "<Figure size 640x480 with 1 Axes>"
      ]
     },
     "metadata": {},
     "output_type": "display_data"
    }
   ],
   "source": [
    "plt.imshow(gaussian_filter((test_frame[:,:,1] > 180).astype(float), sigma = 3) > 0.5)\n",
    "plt.show()"
   ]
  },
  {
   "cell_type": "code",
   "execution_count": 96,
   "id": "374a80db-d36d-4607-98fb-68f02474128f",
   "metadata": {},
   "outputs": [],
   "source": [
    "conditioned = gaussian_filter((test_frame[:,:,1] > 180).astype(float), sigma = 3) > 0.5"
   ]
  },
  {
   "cell_type": "code",
   "execution_count": 90,
   "id": "bde048c4-d825-4837-b8d7-b8a3f3687786",
   "metadata": {},
   "outputs": [],
   "source": [
    "test = np.ones_like(conditioned)"
   ]
  },
  {
   "cell_type": "code",
   "execution_count": 97,
   "id": "ca0241e9-b879-4e2d-9aa2-20394cda954a",
   "metadata": {},
   "outputs": [],
   "source": [
    "for x in range(250):\n",
    "    for y in range(250):\n",
    "        if x > y - 30:\n",
    "            conditioned[x, y] = 0"
   ]
  },
  {
   "cell_type": "code",
   "execution_count": 98,
   "id": "bbcf306b-e23a-4895-8cdf-e3516f4b566a",
   "metadata": {},
   "outputs": [
    {
     "data": {
      "image/png": "[encoded data removed]",
      "text/plain": [
       "<Figure size 640x480 with 1 Axes>"
      ]
     },
     "metadata": {},
     "output_type": "display_data"
    }
   ],
   "source": [
    "plt.imshow(conditioned)\n",
    "plt.show()"
   ]
  },
  {
   "cell_type": "code",
   "execution_count": 103,
   "id": "824121ff-43aa-4727-a1d5-d7bb380dc7a0",
   "metadata": {},
   "outputs": [],
   "source": [
    "coords_T = np.where(conditioned > 0)"
   ]
  },
  {
   "cell_type": "code",
   "execution_count": 130,
   "id": "01b38d4b-a918-4743-9b46-0be9ef4f62a4",
   "metadata": {},
   "outputs": [
    {
     "data": {
      "text/plain": [
       "dtype('bool')"
      ]
     },
     "execution_count": 130,
     "metadata": {},
     "output_type": "execute_result"
    }
   ],
   "source": [
    "conditioned.dtype"
   ]
  },
  {
   "cell_type": "code",
   "execution_count": 110,
   "id": "f2e4a90c-7400-4388-82b3-9631115c9fd3",
   "metadata": {},
   "outputs": [],
   "source": [
    "coords = np.transpose(coords_T)"
   ]
  },
  {
   "cell_type": "code",
   "execution_count": 111,
   "id": "c42ff97b-097c-4a2c-89c5-80e71d95a16f",
   "metadata": {},
   "outputs": [],
   "source": [
    "k_means = KMeans(init='k-means++', n_clusters=7, n_init=10)\n",
    "k_means.fit(coords)\n",
    "k_means_labels = k_means.labels_"
   ]
  },
  {
   "cell_type": "code",
   "execution_count": 119,
   "id": "63dfe6b4-2598-41d2-8e59-7b584f3e2d01",
   "metadata": {},
   "outputs": [
    {
     "data": {
      "text/plain": [
       "array([3, 3, 3, 3, 3, 3, 3, 3, 3, 3, 3, 3, 3, 3, 3, 3, 3, 3, 3, 3, 3, 3,\n",
       "       3, 3, 3, 3, 3, 3, 3, 3, 3, 3, 3, 3, 3, 3, 3, 3, 3, 3, 3, 3, 3, 3,\n",
       "       1, 1, 1, 1, 1, 3, 3, 3, 3, 3, 3, 3, 3, 3, 3, 3, 3, 1, 1, 1, 1, 1,\n",
       "       1, 1, 1, 1, 3, 3, 3, 3, 3, 3, 3, 3, 3, 3, 3, 1, 1, 1, 1, 1, 1, 1,\n",
       "       1, 1, 3, 3, 3, 3, 3, 3, 3, 3, 3, 3, 1, 1, 1, 1, 1, 1, 1, 1, 1, 3,\n",
       "       3, 3, 3, 3, 3, 3, 3, 1, 1, 1, 1, 1, 1, 1, 1, 1, 3, 3, 3, 3, 1, 1,\n",
       "       1, 1, 1, 1, 1, 1, 1, 1, 1, 1, 1, 1, 1, 1, 1, 1, 1, 1, 1, 1, 1, 1,\n",
       "       1, 1, 1, 1, 1, 1, 1, 1, 1, 1, 1, 1, 4, 4, 4, 1, 4, 4, 4, 4, 4, 4,\n",
       "       4, 4, 4, 4, 4, 4, 4, 4, 4, 4, 4, 4, 4, 4, 4, 4, 4, 4, 4, 4, 4, 4,\n",
       "       4, 4, 4, 4, 4, 4, 4, 4, 4, 4, 4, 4, 4, 4, 4, 4, 4, 4, 4, 4, 4, 4,\n",
       "       4, 4, 4, 4, 4, 4, 4, 4, 4, 4, 4, 4, 4, 4, 4, 4, 4, 4, 4, 4, 4, 4,\n",
       "       4, 4, 4, 4, 4, 4, 4, 4, 5, 5, 5, 5, 5, 5, 5, 5, 5, 5, 5, 5, 5, 5,\n",
       "       5, 5, 5, 5, 5, 5, 5, 5, 5, 5, 5, 5, 5, 5, 5, 5, 5, 5, 5, 5, 5, 5,\n",
       "       5, 5, 5, 5, 5, 5, 5, 5, 5, 5, 5, 5, 5, 5, 5, 5, 5, 5, 0, 0, 0, 0,\n",
       "       0, 0, 0, 0, 0, 0, 0, 0, 0, 0, 0, 0, 0, 0, 0, 0, 0, 0, 0, 0, 0, 0,\n",
       "       0, 0, 0, 0, 0, 0, 0, 0, 0, 0, 0, 0, 0, 0, 0, 0, 0, 0, 0, 0, 0, 0,\n",
       "       0, 0, 0, 0, 0, 0, 0, 0, 0, 0, 0, 0, 0, 0, 0, 0, 0, 0, 0, 0, 0, 0,\n",
       "       0, 0, 0, 0, 0, 0, 0, 0, 0, 0, 0, 0, 0, 0, 2, 2, 2, 2, 2, 2, 2, 2,\n",
       "       2, 2, 2, 2, 2, 2, 2, 2, 2, 2, 2, 2, 2, 2, 2, 2, 2, 2, 2, 2, 2, 2,\n",
       "       2, 2, 2, 2, 2, 2, 2, 2, 2, 2, 2, 2, 6, 6, 6, 6, 6, 6, 6, 6, 6, 6,\n",
       "       6, 6, 6, 6, 6, 6, 6, 6, 6, 6, 6, 6, 6, 6, 6, 6, 6, 6], dtype=int32)"
      ]
     },
     "execution_count": 119,
     "metadata": {},
     "output_type": "execute_result"
    }
   ],
   "source": [
    "k_means_labels"
   ]
  },
  {
   "cell_type": "code",
   "execution_count": 133,
   "id": "080450bb-c1dc-4866-aa95-568733802693",
   "metadata": {},
   "outputs": [],
   "source": [
    "result = np.zeros_like(conditioned, dtype = float)\n",
    "for i, coord in enumerate(coords):\n",
    "    #print(coord)\n",
    "    result[coord[0], coord[1]] = k_means_labels[i] + 1"
   ]
  },
  {
   "cell_type": "code",
   "execution_count": 128,
   "id": "603f748a-ee5a-4863-9fbf-5e632208ef20",
   "metadata": {},
   "outputs": [
    {
     "data": {
      "text/plain": [
       "6.0"
      ]
     },
     "execution_count": 128,
     "metadata": {},
     "output_type": "execute_result"
    }
   ],
   "source": [
    "result[coord[0], coord[1]]"
   ]
  },
  {
   "cell_type": "code",
   "execution_count": null,
   "id": "566872f7-8ed5-48a3-a52a-66d6343bd21c",
   "metadata": {},
   "outputs": [],
   "source": [
    "result"
   ]
  },
  {
   "cell_type": "code",
   "execution_count": 134,
   "id": "9d75e61d-a232-48c6-b791-e16eac4fa1f0",
   "metadata": {},
   "outputs": [
    {
     "data": {
      "image/png": "[encoded data removed]",
      "text/plain": [
       "<Figure size 640x480 with 1 Axes>"
      ]
     },
     "metadata": {},
     "output_type": "display_data"
    }
   ],
   "source": [
    "plt.imshow(result, cmap = 'rainbow')\n",
    "plt.show()"
   ]
  },
  {
   "cell_type": "code",
   "execution_count": null,
   "id": "db740d92-3ac2-44b6-a321-6ca06fd082a2",
   "metadata": {},
   "outputs": [],
   "source": [
    "coords = np.transpose(coords_T)"
   ]
  }
 ],
 "metadata": {
  "kernelspec": {
   "display_name": "Python 3",
   "language": "python",
   "name": "python3"
  },
  "language_info": {
   "codemirror_mode": {
    "name": "ipython",
    "version": 3
   },
   "file_extension": ".py",
   "mimetype": "text/x-python",
   "name": "python",
   "nbconvert_exporter": "python",
   "pygments_lexer": "ipython3",
   "version": "3.9.13"
  }
 },
 "nbformat": 4,
 "nbformat_minor": 5
}
