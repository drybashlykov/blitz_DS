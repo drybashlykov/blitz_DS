{
 "cells": [
  {
   "cell_type": "code",
   "execution_count": 114,
   "id": "14bfe0d8-dc24-448a-b8d2-5374b4b078d7",
   "metadata": {},
   "outputs": [],
   "source": [
    "import numpy as np\n",
    "import cv2\n",
    "from pprint import pprint\n",
    "import ffmpeg\n",
    "import sys\n",
    "import matplotlib.pyplot as plt\n",
    "from IPython.display import clear_output"
   ]
  },
  {
   "cell_type": "code",
   "execution_count": 2,
   "id": "fc54a855-c2b8-4fd4-98e3-aee222d2f14e",
   "metadata": {},
   "outputs": [],
   "source": [
    "filename = \"/home/dmitry/work/open_source_stuff/blitz_DS/replay_videos/test.mp4\" #5396 frames 4 minutes 0 seconds"
   ]
  },
  {
   "cell_type": "code",
   "execution_count": 183,
   "id": "d8b05483-4d1d-402e-af6a-48511db62576",
   "metadata": {},
   "outputs": [],
   "source": [
    "def count_frames(filename):\n",
    "    counter = 0\n",
    "    cap = cv2.VideoCapture(filename)\n",
    "    ret = 1\n",
    "    while(ret):\n",
    "        ret, _ = cap.read()\n",
    "        counter += 1\n",
    "    counter -= 1 #the last cycle passed with no frame\n",
    "    cap.release()\n",
    "    return counter\n",
    "\n",
    "def get_nbframes(filename):\n",
    "    return int(ffmpeg.probe(filename)['streams'][1]['nb_frames'])\n",
    "\n",
    "def get_frame(filename, n_frame):\n",
    "    cap = cv2.VideoCapture(filename)\n",
    "    for i in range(n_frame - 1):\n",
    "        cap.read()\n",
    "    _, frame = cap.read()\n",
    "    return frame\n",
    "\n",
    "def show_frame(frame, time = 5000):\n",
    "    cv2.imshow(\"frame\", frame)\n",
    "    cv2.waitKey(time)\n",
    "    cv2.destroyAllWindows()\n",
    "    \n",
    "def get_similarity(filename):\n",
    "    bins = 60\n",
    "    histSize = [bins]\n",
    "    ranges = [0, 256]\n",
    "\n",
    "    reference = cv2.imread(\"test_frame.png\")[0:272, 276:552]\n",
    "    ref_hsv = cv2.cvtColor(reference, cv2.COLOR_BGR2HSV)\n",
    "    ref_hue_hist = cv2.calcHist(reference, [0], None, histSize, ranges)\n",
    "\n",
    "    hue_similarities = []\n",
    "    cap = cv2.VideoCapture(filename)\n",
    "    for i in range(get_nbframes(filename)):\n",
    "        print(i, end = None)\n",
    "        _, frame = cap.read()\n",
    "        ROI = frame[0:272, 276:552]\n",
    "        ROI_hsv = cv2.cvtColor(ROI, cv2.COLOR_BGR2HSV)\n",
    "        hue_hist = cv2.calcHist(ROI, [0], None, histSize, ranges)\n",
    "        hue_similarity = cv2.compareHist(hue_hist, ref_hue_hist, method = 0)\n",
    "\n",
    "        hue_similarities.append(hue_similarity)\n",
    "        clear_output(wait = True)\n",
    "    cap.release()\n",
    "    return hue_similarities\n",
    "\n",
    "def find_start(threshold = 0.2):\n",
    "    bins = 60\n",
    "    histSize = [bins]\n",
    "    ranges = [0, 256]\n",
    "\n",
    "    reference = cv2.imread(\"test_frame.png\")[0:272, 276:552]\n",
    "    ref_hsv = cv2.cvtColor(reference, cv2.COLOR_BGR2HSV)\n",
    "    b_H_ref = cv2.calcHist(ref_hsv, [0], None, histSize, ranges)\n",
    "    \n",
    "    cap = cv2.VideoCapture(filename)\n",
    "    while status and similarity < threshold:\n",
    "        status, frame = cap.read()\n",
    "        ROI = frame[0:272, 276:552]\n",
    "        "
   ]
  },
  {
   "cell_type": "code",
   "execution_count": 171,
   "id": "f084c528-5bc8-4444-a363-6c6a402c0620",
   "metadata": {},
   "outputs": [],
   "source": [
    "show_frame(ROI)"
   ]
  },
  {
   "cell_type": "code",
   "execution_count": null,
   "id": "93dad004-7bf1-49b4-8636-7617f52caa3a",
   "metadata": {},
   "outputs": [
    {
     "data": {
      "text/plain": [
       "1158.967529296875"
      ]
     },
     "execution_count": 165,
     "metadata": {},
     "output_type": "execute_result"
    }
   ],
   "source": [
    "ROI.size * ROI.itemsize * get_nbframes(filename) / 1024 / 1024"
   ]
  },
  {
   "cell_type": "code",
   "execution_count": 184,
   "id": "362a08d1-70ea-4a1f-a98f-8668f58d4be0",
   "metadata": {},
   "outputs": [
    {
     "name": "stdout",
     "output_type": "stream",
     "text": [
      "604\n"
     ]
    },
    {
     "ename": "KeyboardInterrupt",
     "evalue": "",
     "output_type": "error",
     "traceback": [
      "\u001b[0;31m---------------------------------------------------------------------------\u001b[0m",
      "\u001b[0;31mKeyboardInterrupt\u001b[0m                         Traceback (most recent call last)",
      "Input \u001b[0;32mIn [184]\u001b[0m, in \u001b[0;36m<cell line: 1>\u001b[0;34m()\u001b[0m\n\u001b[0;32m----> 1\u001b[0m s \u001b[38;5;241m=\u001b[39m \u001b[43mget_similarity\u001b[49m\u001b[43m(\u001b[49m\u001b[43mfilename\u001b[49m\u001b[43m)\u001b[49m\n",
      "Input \u001b[0;32mIn [183]\u001b[0m, in \u001b[0;36mget_similarity\u001b[0;34m(filename)\u001b[0m\n\u001b[1;32m     44\u001b[0m     hue_similarity \u001b[38;5;241m=\u001b[39m cv2\u001b[38;5;241m.\u001b[39mcompareHist(hue_hist, ref_hue_hist, method \u001b[38;5;241m=\u001b[39m \u001b[38;5;241m0\u001b[39m)\n\u001b[1;32m     46\u001b[0m     hue_similarities\u001b[38;5;241m.\u001b[39mappend(hue_similarity)\n\u001b[0;32m---> 47\u001b[0m     \u001b[43mclear_output\u001b[49m\u001b[43m(\u001b[49m\u001b[43mwait\u001b[49m\u001b[43m \u001b[49m\u001b[38;5;241;43m=\u001b[39;49m\u001b[43m \u001b[49m\u001b[38;5;28;43;01mTrue\u001b[39;49;00m\u001b[43m)\u001b[49m\n\u001b[1;32m     48\u001b[0m cap\u001b[38;5;241m.\u001b[39mrelease()\n\u001b[1;32m     49\u001b[0m \u001b[38;5;28;01mreturn\u001b[39;00m hue_similarities\n",
      "File \u001b[0;32m~/miniconda3/lib/python3.9/site-packages/IPython/core/display_functions.py:386\u001b[0m, in \u001b[0;36mclear_output\u001b[0;34m(wait)\u001b[0m\n\u001b[1;32m    384\u001b[0m \u001b[38;5;28;01mfrom\u001b[39;00m \u001b[38;5;21;01mIPython\u001b[39;00m\u001b[38;5;21;01m.\u001b[39;00m\u001b[38;5;21;01mcore\u001b[39;00m\u001b[38;5;21;01m.\u001b[39;00m\u001b[38;5;21;01minteractiveshell\u001b[39;00m \u001b[38;5;28;01mimport\u001b[39;00m InteractiveShell\n\u001b[1;32m    385\u001b[0m \u001b[38;5;28;01mif\u001b[39;00m InteractiveShell\u001b[38;5;241m.\u001b[39minitialized():\n\u001b[0;32m--> 386\u001b[0m     \u001b[43mInteractiveShell\u001b[49m\u001b[38;5;241;43m.\u001b[39;49m\u001b[43minstance\u001b[49m\u001b[43m(\u001b[49m\u001b[43m)\u001b[49m\u001b[38;5;241;43m.\u001b[39;49m\u001b[43mdisplay_pub\u001b[49m\u001b[38;5;241;43m.\u001b[39;49m\u001b[43mclear_output\u001b[49m\u001b[43m(\u001b[49m\u001b[43mwait\u001b[49m\u001b[43m)\u001b[49m\n\u001b[1;32m    387\u001b[0m \u001b[38;5;28;01melse\u001b[39;00m:\n\u001b[1;32m    388\u001b[0m     \u001b[38;5;28mprint\u001b[39m(\u001b[38;5;124m'\u001b[39m\u001b[38;5;130;01m\\033\u001b[39;00m\u001b[38;5;124m[2K\u001b[39m\u001b[38;5;130;01m\\r\u001b[39;00m\u001b[38;5;124m'\u001b[39m, end\u001b[38;5;241m=\u001b[39m\u001b[38;5;124m'\u001b[39m\u001b[38;5;124m'\u001b[39m)\n",
      "File \u001b[0;32m~/miniconda3/lib/python3.9/site-packages/ipykernel/zmqshell.py:146\u001b[0m, in \u001b[0;36mZMQDisplayPublisher.clear_output\u001b[0;34m(self, wait)\u001b[0m\n\u001b[1;32m    135\u001b[0m \u001b[38;5;124;03m\"\"\"Clear output associated with the current execution (cell).\u001b[39;00m\n\u001b[1;32m    136\u001b[0m \n\u001b[1;32m    137\u001b[0m \u001b[38;5;124;03mParameters\u001b[39;00m\n\u001b[0;32m   (...)\u001b[0m\n\u001b[1;32m    143\u001b[0m \n\u001b[1;32m    144\u001b[0m \u001b[38;5;124;03m\"\"\"\u001b[39;00m\n\u001b[1;32m    145\u001b[0m content \u001b[38;5;241m=\u001b[39m \u001b[38;5;28mdict\u001b[39m(wait\u001b[38;5;241m=\u001b[39mwait)\n\u001b[0;32m--> 146\u001b[0m \u001b[38;5;28;43mself\u001b[39;49m\u001b[38;5;241;43m.\u001b[39;49m\u001b[43m_flush_streams\u001b[49m\u001b[43m(\u001b[49m\u001b[43m)\u001b[49m\n\u001b[1;32m    147\u001b[0m \u001b[38;5;28mself\u001b[39m\u001b[38;5;241m.\u001b[39msession\u001b[38;5;241m.\u001b[39msend(\n\u001b[1;32m    148\u001b[0m     \u001b[38;5;28mself\u001b[39m\u001b[38;5;241m.\u001b[39mpub_socket,\n\u001b[1;32m    149\u001b[0m     \u001b[38;5;124m\"\u001b[39m\u001b[38;5;124mclear_output\u001b[39m\u001b[38;5;124m\"\u001b[39m,\n\u001b[0;32m   (...)\u001b[0m\n\u001b[1;32m    152\u001b[0m     ident\u001b[38;5;241m=\u001b[39m\u001b[38;5;28mself\u001b[39m\u001b[38;5;241m.\u001b[39mtopic,\n\u001b[1;32m    153\u001b[0m )\n",
      "File \u001b[0;32m~/miniconda3/lib/python3.9/site-packages/ipykernel/zmqshell.py:66\u001b[0m, in \u001b[0;36mZMQDisplayPublisher._flush_streams\u001b[0;34m(self)\u001b[0m\n\u001b[1;32m     64\u001b[0m \u001b[38;5;124;03m\"\"\"flush IO Streams prior to display\"\"\"\u001b[39;00m\n\u001b[1;32m     65\u001b[0m sys\u001b[38;5;241m.\u001b[39mstdout\u001b[38;5;241m.\u001b[39mflush()\n\u001b[0;32m---> 66\u001b[0m \u001b[43msys\u001b[49m\u001b[38;5;241;43m.\u001b[39;49m\u001b[43mstderr\u001b[49m\u001b[38;5;241;43m.\u001b[39;49m\u001b[43mflush\u001b[49m\u001b[43m(\u001b[49m\u001b[43m)\u001b[49m\n",
      "File \u001b[0;32m~/miniconda3/lib/python3.9/site-packages/ipykernel/iostream.py:478\u001b[0m, in \u001b[0;36mOutStream.flush\u001b[0;34m(self)\u001b[0m\n\u001b[1;32m    476\u001b[0m \u001b[38;5;66;03m# wait for flush to actually get through, if we can.\u001b[39;00m\n\u001b[1;32m    477\u001b[0m evt \u001b[38;5;241m=\u001b[39m threading\u001b[38;5;241m.\u001b[39mEvent()\n\u001b[0;32m--> 478\u001b[0m \u001b[38;5;28;43mself\u001b[39;49m\u001b[38;5;241;43m.\u001b[39;49m\u001b[43mpub_thread\u001b[49m\u001b[38;5;241;43m.\u001b[39;49m\u001b[43mschedule\u001b[49m\u001b[43m(\u001b[49m\u001b[43mevt\u001b[49m\u001b[38;5;241;43m.\u001b[39;49m\u001b[43mset\u001b[49m\u001b[43m)\u001b[49m\n\u001b[1;32m    479\u001b[0m \u001b[38;5;66;03m# and give a timeout to avoid\u001b[39;00m\n\u001b[1;32m    480\u001b[0m \u001b[38;5;28;01mif\u001b[39;00m \u001b[38;5;129;01mnot\u001b[39;00m evt\u001b[38;5;241m.\u001b[39mwait(\u001b[38;5;28mself\u001b[39m\u001b[38;5;241m.\u001b[39mflush_timeout):\n\u001b[1;32m    481\u001b[0m     \u001b[38;5;66;03m# write directly to __stderr__ instead of warning because\u001b[39;00m\n\u001b[1;32m    482\u001b[0m     \u001b[38;5;66;03m# if this is happening sys.stderr may be the problem.\u001b[39;00m\n",
      "File \u001b[0;32m~/miniconda3/lib/python3.9/site-packages/ipykernel/iostream.py:210\u001b[0m, in \u001b[0;36mIOPubThread.schedule\u001b[0;34m(self, f)\u001b[0m\n\u001b[1;32m    208\u001b[0m     \u001b[38;5;28mself\u001b[39m\u001b[38;5;241m.\u001b[39m_events\u001b[38;5;241m.\u001b[39mappend(f)\n\u001b[1;32m    209\u001b[0m     \u001b[38;5;66;03m# wake event thread (message content is ignored)\u001b[39;00m\n\u001b[0;32m--> 210\u001b[0m     \u001b[38;5;28;43mself\u001b[39;49m\u001b[38;5;241;43m.\u001b[39;49m\u001b[43m_event_pipe\u001b[49m\u001b[38;5;241;43m.\u001b[39;49m\u001b[43msend\u001b[49m\u001b[43m(\u001b[49m\u001b[38;5;124;43mb\u001b[39;49m\u001b[38;5;124;43m\"\u001b[39;49m\u001b[38;5;124;43m\"\u001b[39;49m\u001b[43m)\u001b[49m\n\u001b[1;32m    211\u001b[0m \u001b[38;5;28;01melse\u001b[39;00m:\n\u001b[1;32m    212\u001b[0m     f()\n",
      "File \u001b[0;32m~/miniconda3/lib/python3.9/site-packages/zmq/sugar/socket.py:618\u001b[0m, in \u001b[0;36mSocket.send\u001b[0;34m(self, data, flags, copy, track, routing_id, group)\u001b[0m\n\u001b[1;32m    611\u001b[0m         data \u001b[38;5;241m=\u001b[39m zmq\u001b[38;5;241m.\u001b[39mFrame(\n\u001b[1;32m    612\u001b[0m             data,\n\u001b[1;32m    613\u001b[0m             track\u001b[38;5;241m=\u001b[39mtrack,\n\u001b[1;32m    614\u001b[0m             copy\u001b[38;5;241m=\u001b[39mcopy \u001b[38;5;129;01mor\u001b[39;00m \u001b[38;5;28;01mNone\u001b[39;00m,\n\u001b[1;32m    615\u001b[0m             copy_threshold\u001b[38;5;241m=\u001b[39m\u001b[38;5;28mself\u001b[39m\u001b[38;5;241m.\u001b[39mcopy_threshold,\n\u001b[1;32m    616\u001b[0m         )\n\u001b[1;32m    617\u001b[0m     data\u001b[38;5;241m.\u001b[39mgroup \u001b[38;5;241m=\u001b[39m group\n\u001b[0;32m--> 618\u001b[0m \u001b[38;5;28;01mreturn\u001b[39;00m \u001b[38;5;28;43msuper\u001b[39;49m\u001b[43m(\u001b[49m\u001b[43m)\u001b[49m\u001b[38;5;241;43m.\u001b[39;49m\u001b[43msend\u001b[49m\u001b[43m(\u001b[49m\u001b[43mdata\u001b[49m\u001b[43m,\u001b[49m\u001b[43m \u001b[49m\u001b[43mflags\u001b[49m\u001b[38;5;241;43m=\u001b[39;49m\u001b[43mflags\u001b[49m\u001b[43m,\u001b[49m\u001b[43m \u001b[49m\u001b[43mcopy\u001b[49m\u001b[38;5;241;43m=\u001b[39;49m\u001b[43mcopy\u001b[49m\u001b[43m,\u001b[49m\u001b[43m \u001b[49m\u001b[43mtrack\u001b[49m\u001b[38;5;241;43m=\u001b[39;49m\u001b[43mtrack\u001b[49m\u001b[43m)\u001b[49m\n",
      "File \u001b[0;32mzmq/backend/cython/socket.pyx:740\u001b[0m, in \u001b[0;36mzmq.backend.cython.socket.Socket.send\u001b[0;34m()\u001b[0m\n",
      "File \u001b[0;32mzmq/backend/cython/socket.pyx:787\u001b[0m, in \u001b[0;36mzmq.backend.cython.socket.Socket.send\u001b[0;34m()\u001b[0m\n",
      "File \u001b[0;32mzmq/backend/cython/socket.pyx:244\u001b[0m, in \u001b[0;36mzmq.backend.cython.socket._send_copy\u001b[0;34m()\u001b[0m\n",
      "File \u001b[0;32m~/miniconda3/lib/python3.9/site-packages/zmq/backend/cython/checkrc.pxd:13\u001b[0m, in \u001b[0;36mzmq.backend.cython.checkrc._check_rc\u001b[0;34m()\u001b[0m\n",
      "\u001b[0;31mKeyboardInterrupt\u001b[0m: "
     ]
    }
   ],
   "source": [
    "s = get_similarity(filename)"
   ]
  },
  {
   "cell_type": "code",
   "execution_count": 141,
   "id": "c3747bce-fd22-4586-a59a-55dc0154cb20",
   "metadata": {},
   "outputs": [],
   "source": [
    "frame[:,:,0] -= frame[:,:,0]\n",
    "show_frame(frame)"
   ]
  },
  {
   "cell_type": "code",
   "execution_count": 186,
   "id": "20a8507a-1a94-46e1-a366-e70a78ecf309",
   "metadata": {},
   "outputs": [
    {
     "data": {
      "image/png": "[encoded data removed]",
      "text/plain": [
       "<Figure size 640x480 with 1 Axes>"
      ]
     },
     "metadata": {},
     "output_type": "display_data"
    }
   ],
   "source": [
    "plt.plot(s)\n",
    "plt.title(\"B_method0\")\n",
    "plt.show()"
   ]
  },
  {
   "cell_type": "code",
   "execution_count": 7,
   "id": "af905320-6d10-4dfb-bb8b-c991144a2184",
   "metadata": {},
   "outputs": [],
   "source": [
    "ROI_frames_arr = np.array(ROI_frames)"
   ]
  },
  {
   "cell_type": "code",
   "execution_count": 43,
   "id": "2bc8293d-75cd-477f-9c83-447c71e0c2e6",
   "metadata": {},
   "outputs": [
    {
     "data": {
      "image/png": "[encoded data removed]",
      "text/plain": [
       "<Figure size 640x480 with 1 Axes>"
      ]
     },
     "metadata": {},
     "output_type": "display_data"
    }
   ],
   "source": [
    "plt.plot(green)\n",
    "plt.xlim(260, 280)\n",
    "plt.show()"
   ]
  },
  {
   "cell_type": "code",
   "execution_count": 57,
   "id": "5910e4b5-8f51-4955-87a8-10d00e27aa5b",
   "metadata": {},
   "outputs": [],
   "source": [
    "frame = get_frame(filename, 500)"
   ]
  },
  {
   "cell_type": "code",
   "execution_count": 75,
   "id": "edeec283-9cbf-4ad1-b9b3-8baa7d5bbd6e",
   "metadata": {},
   "outputs": [],
   "source": [
    "show_frame(frame[0:272, 276:552])"
   ]
  },
  {
   "cell_type": "code",
   "execution_count": 74,
   "id": "230bcb06-0356-4572-9736-3c506e300acd",
   "metadata": {},
   "outputs": [
    {
     "data": {
      "text/plain": [
       "True"
      ]
     },
     "execution_count": 74,
     "metadata": {},
     "output_type": "execute_result"
    }
   ],
   "source": [
    "cv2.imwrite(\"test_frame.png\", frame)"
   ]
  },
  {
   "cell_type": "code",
   "execution_count": 12,
   "id": "75d7a07c-9554-4aa8-84e9-41e3ed69942f",
   "metadata": {},
   "outputs": [
    {
     "data": {
      "text/plain": [
       "144"
      ]
     },
     "execution_count": 12,
     "metadata": {},
     "output_type": "execute_result"
    }
   ],
   "source": [
    "cap = cv2.VideoCapture(filename)\n",
    "for i in range("
   ]
  },
  {
   "cell_type": "code",
   "execution_count": 120,
   "id": "835db475-8188-4018-889b-6d7d346c2041",
   "metadata": {},
   "outputs": [],
   "source": [
    "cv2.imshow(\"frame\", frame[300:500, 1000:1500])\n",
    "cv2.waitKey(5000)\n",
    "cv2.destroyAllWindows()"
   ]
  },
  {
   "cell_type": "code",
   "execution_count": 63,
   "id": "9afd6127-3546-4846-aa1c-80680759b415",
   "metadata": {},
   "outputs": [],
   "source": [
    "display = cv2.resize(frame, (800, 360))"
   ]
  },
  {
   "cell_type": "code",
   "execution_count": 104,
   "id": "d9b91b4e-8554-4d27-93f6-70dacfaa9024",
   "metadata": {},
   "outputs": [],
   "source": [
    "cv2.destroyAllWindows()"
   ]
  },
  {
   "cell_type": "code",
   "execution_count": 69,
   "id": "dedde2f5-277d-4311-94b1-8ece6b6d9457",
   "metadata": {},
   "outputs": [
    {
     "data": {
      "text/plain": [
       "5397"
      ]
     },
     "execution_count": 69,
     "metadata": {},
     "output_type": "execute_result"
    }
   ],
   "source": [
    "count_frames(\"/home/dmitry/work/open_source_stuff/blitz_DS/replay_videos/test.mp4\")"
   ]
  },
  {
   "cell_type": "code",
   "execution_count": null,
   "id": "5406e3b8-0bcd-457b-840f-bac25fd5a791",
   "metadata": {},
   "outputs": [],
   "source": []
  }
 ],
 "metadata": {
  "kernelspec": {
   "display_name": "Python 3",
   "language": "python",
   "name": "python3"
  },
  "language_info": {
   "codemirror_mode": {
    "name": "ipython",
    "version": 3
   },
   "file_extension": ".py",
   "mimetype": "text/x-python",
   "name": "python",
   "nbconvert_exporter": "python",
   "pygments_lexer": "ipython3",
   "version": "3.9.13"
  }
 },
 "nbformat": 4,
 "nbformat_minor": 5
}
