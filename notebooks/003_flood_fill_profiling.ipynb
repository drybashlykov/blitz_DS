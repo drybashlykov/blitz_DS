{
 "cells": [
  {
   "cell_type": "code",
   "execution_count": 1,
   "id": "27ff76cf-1931-4a88-801e-e8deaef20a58",
   "metadata": {},
   "outputs": [],
   "source": [
    "import numpy as np\n",
    "import cv2\n",
    "from pprint import pprint\n",
    "import ffmpeg\n",
    "import sys\n",
    "import matplotlib.pyplot as plt\n",
    "from IPython.display import clear_output\n",
    "import time\n",
    "import imageio\n",
    "\n",
    "from scipy.ndimage import gaussian_filter\n",
    "from sklearn.cluster import KMeans\n",
    "\n",
    "sys.path.append('../')\n",
    "\n",
    "from precondition import *\n",
    "from detect_teammates import *\n",
    "\n",
    "import importlib\n",
    "importlib.reload(sys.modules['detect_teammates'])\n",
    "from precondition import *\n",
    "from detect_teammates import *"
   ]
  },
  {
   "cell_type": "code",
   "execution_count": 2,
   "id": "87de2b96-dd91-49de-b863-4dadad0d327a",
   "metadata": {},
   "outputs": [],
   "source": [
    "with open(\"../sequences/test_2.seq\", mode = 'rb') as f:\n",
    "    seq = np.fromfile(f, dtype = np.uint8)\n",
    "width = 272\n",
    "height = 272\n",
    "channels = 3\n",
    "n_frames = int(seq.shape[0] / width / height / channels)\n",
    "seq = np.reshape(seq, (width, height, channels, n_frames))"
   ]
  },
  {
   "cell_type": "code",
   "execution_count": 3,
   "id": "81999bdf-44d0-458d-aa64-2d5cdf73b811",
   "metadata": {},
   "outputs": [
    {
     "name": "stdout",
     "output_type": "stream",
     "text": [
      "5\n"
     ]
    }
   ],
   "source": [
    "#seq = cut_first_minute(filename)\n",
    "bp_seq = band_pass_filter_seq(seq)\n",
    "bp_seq_bgr = 255 * np.repeat(np.expand_dims(bp_seq.astype(np.uint8), axis = 2), 3, axis = 2)\n",
    "team_blobs = filter_sequence(bp_seq_bgr, find_player_filter, s = 3, threshold = 100)\n",
    "nightmare_seq = clusters_sequence(team_blobs * 255)"
   ]
  },
  {
   "cell_type": "code",
   "execution_count": 19,
   "id": "6cc5e864-a95d-479f-aa60-495cc14ce9ef",
   "metadata": {},
   "outputs": [],
   "source": [
    "test_frame = team_blobs[:,:,:,10] * 255"
   ]
  },
  {
   "cell_type": "code",
   "execution_count": 6,
   "id": "408f7322-81b8-4cb2-897d-5b22481cb748",
   "metadata": {},
   "outputs": [
    {
     "name": "stdout",
     "output_type": "stream",
     "text": [
      "7.41 s ± 350 ms per loop (mean ± std. dev. of 7 runs, 1 loop each)\n"
     ]
    }
   ],
   "source": [
    "%%timeit\n",
    "N, CA_test = connected_areas(test_frame[:,:,0])"
   ]
  },
  {
   "cell_type": "code",
   "execution_count": 8,
   "id": "dbce7a07-c9d8-461d-8468-d24e85166ae9",
   "metadata": {},
   "outputs": [],
   "source": [
    "from skimage import data, filters, color, morphology\n",
    "from skimage.segmentation import flood, flood_fill"
   ]
  },
  {
   "cell_type": "code",
   "execution_count": 45,
   "id": "c607891d-efa5-4f5d-b9e8-9318fbe5b3f4",
   "metadata": {},
   "outputs": [],
   "source": []
  },
  {
   "cell_type": "code",
   "execution_count": 53,
   "id": "503865ab-5dcd-4b6e-9a92-95d75c5a47d5",
   "metadata": {},
   "outputs": [
    {
     "data": {
      "text/plain": [
       "array([  0, 255], dtype=uint8)"
      ]
     },
     "execution_count": 53,
     "metadata": {},
     "output_type": "execute_result"
    }
   ],
   "source": [
    "plt.imshow(test_frame)"
   ]
  },
  {
   "cell_type": "code",
   "execution_count": 61,
   "id": "95cfef51-aad9-4de8-b306-52554cdfbd2e",
   "metadata": {},
   "outputs": [
    {
     "name": "stdout",
     "output_type": "stream",
     "text": [
      "3.37 ms ± 383 µs per loop (mean ± std. dev. of 7 runs, 100 loops each)\n"
     ]
    }
   ],
   "source": [
    "%%timeit\n",
    "seed_points = np.transpose(np.where(test_frame[:,:,0]))\n",
    "seed_points = set(map(tuple, seed_points))\n",
    "\n",
    "res = test_frame[:,:,0]\n",
    "counter = 0\n",
    "while seed_points:\n",
    "    counter += 1\n",
    "    seed_point = seed_points.pop()\n",
    "    res = flood_fill(res, tuple(seed_point), new_value = counter)\n",
    "    points_to_exclude = np.transpose(np.where(res == counter))\n",
    "    points_to_exclude = set(map(tuple, points_to_exclude))\n",
    "    seed_points -= points_to_exclude"
   ]
  },
  {
   "cell_type": "code",
   "execution_count": 97,
   "id": "151b25e3-d5c3-4ada-a26d-fbf4e131ea5a",
   "metadata": {},
   "outputs": [
    {
     "ename": "KeyboardInterrupt",
     "evalue": "",
     "output_type": "error",
     "traceback": [
      "\u001b[0;31m---------------------------------------------------------------------------\u001b[0m",
      "\u001b[0;31mKeyboardInterrupt\u001b[0m                         Traceback (most recent call last)",
      "Input \u001b[0;32mIn [97]\u001b[0m, in \u001b[0;36m<cell line: 5>\u001b[0;34m()\u001b[0m\n\u001b[1;32m      9\u001b[0m cv2\u001b[38;5;241m.\u001b[39mfloodFill(res, mask, \u001b[38;5;28mtuple\u001b[39m(seed_point), newVal \u001b[38;5;241m=\u001b[39m counter)\n\u001b[1;32m     10\u001b[0m points_to_exclude \u001b[38;5;241m=\u001b[39m np\u001b[38;5;241m.\u001b[39mtranspose(np\u001b[38;5;241m.\u001b[39mwhere(res \u001b[38;5;241m==\u001b[39m counter))\n\u001b[0;32m---> 11\u001b[0m points_to_exclude \u001b[38;5;241m=\u001b[39m \u001b[38;5;28;43mset\u001b[39;49m\u001b[43m(\u001b[49m\u001b[38;5;28;43mmap\u001b[39;49m\u001b[43m(\u001b[49m\u001b[38;5;28;43mtuple\u001b[39;49m\u001b[43m,\u001b[49m\u001b[43m \u001b[49m\u001b[43mpoints_to_exclude\u001b[49m\u001b[43m)\u001b[49m\u001b[43m)\u001b[49m\n\u001b[1;32m     12\u001b[0m seed_points \u001b[38;5;241m-\u001b[39m\u001b[38;5;241m=\u001b[39m points_to_exclude\n",
      "\u001b[0;31mKeyboardInterrupt\u001b[0m: "
     ]
    }
   ],
   "source": [
    "res = test_frame[:,:,0].copy()\n",
    "seed_points = np.transpose(np.where(res))\n",
    "seed_points = set(map(tuple, seed_points))\n",
    "counter = 0\n",
    "while seed_points:\n",
    "    counter += 1\n",
    "    mask = np.zeros(np.asarray(res.shape)+2, dtype=np.uint8)\n",
    "    seed_point = seed_points.pop()\n",
    "    points_to_exclude = np.transpose(np.where(res == counter))\n",
    "    points_to_exclude = set(map(tuple, points_to_exclude))\n",
    "    seed_points -= points_to_exclude"
   ]
  },
  {
   "cell_type": "code",
   "execution_count": 109,
   "id": "2b3ec26e-9805-4f44-ba96-234ea35913cd",
   "metadata": {},
   "outputs": [
    {
     "data": {
      "text/plain": [
       "array([[0, 0, 0, ..., 0, 0, 0],\n",
       "       [0, 0, 0, ..., 0, 0, 0],\n",
       "       [0, 0, 0, ..., 0, 0, 0],\n",
       "       ...,\n",
       "       [0, 0, 0, ..., 0, 0, 0],\n",
       "       [0, 0, 0, ..., 0, 0, 0],\n",
       "       [0, 0, 0, ..., 0, 0, 0]], dtype=uint8)"
      ]
     },
     "execution_count": 109,
     "metadata": {},
     "output_type": "execute_result"
    }
   ],
   "source": [
    "test_frame[:,:,0]"
   ]
  },
  {
   "cell_type": "code",
   "execution_count": 106,
   "id": "5936c4f8-3a39-4e9e-adf8-2904c982da7a",
   "metadata": {},
   "outputs": [
    {
     "data": {
      "image/png": "[encoded data removed]",
      "text/plain": [
       "<Figure size 640x480 with 2 Axes>"
      ]
     },
     "metadata": {},
     "output_type": "display_data"
    }
   ],
   "source": [
    "cv2.floodFill(res, mask, tuple(seed_point), newVal = counter)\n",
    "plt.imshow(res == 23)\n",
    "plt.colorbar()\n",
    "plt.show()"
   ]
  },
  {
   "cell_type": "code",
   "execution_count": 100,
   "id": "4716f615-dca7-4620-bf69-149abd35811c",
   "metadata": {},
   "outputs": [
    {
     "ename": "AttributeError",
     "evalue": "module 'matplotlib.pyplot' has no attribute 'color'",
     "output_type": "error",
     "traceback": [
      "\u001b[0;31m---------------------------------------------------------------------------\u001b[0m",
      "\u001b[0;31mAttributeError\u001b[0m                            Traceback (most recent call last)",
      "Input \u001b[0;32mIn [100]\u001b[0m, in \u001b[0;36m<cell line: 2>\u001b[0;34m()\u001b[0m\n\u001b[1;32m      1\u001b[0m plt\u001b[38;5;241m.\u001b[39mimshow(res)\n\u001b[0;32m----> 2\u001b[0m \u001b[43mplt\u001b[49m\u001b[38;5;241;43m.\u001b[39;49m\u001b[43mcolor\u001b[49m\n\u001b[1;32m      3\u001b[0m plt\u001b[38;5;241m.\u001b[39mshow()\n",
      "\u001b[0;31mAttributeError\u001b[0m: module 'matplotlib.pyplot' has no attribute 'color'"
     ]
    },
    {
     "data": {
      "image/png": "[encoded data removed]",
      "text/plain": [
       "<Figure size 640x480 with 1 Axes>"
      ]
     },
     "metadata": {},
     "output_type": "display_data"
    }
   ],
   "source": [
    "plt.imshow(res)\n",
    "plt.color\n",
    "plt.show()"
   ]
  },
  {
   "cell_type": "code",
   "execution_count": 84,
   "id": "d2e97fbc-5b1b-441c-9cbe-e91de9726b22",
   "metadata": {},
   "outputs": [
    {
     "data": {
      "text/plain": [
       "200"
      ]
     },
     "execution_count": 84,
     "metadata": {},
     "output_type": "execute_result"
    }
   ],
   "source": [
    "counter"
   ]
  },
  {
   "cell_type": "code",
   "execution_count": 81,
   "id": "6fcdc3b6-b541-422a-8c13-395922de8403",
   "metadata": {},
   "outputs": [],
   "source": [
    "matrix = [[\"c\", \"c\", \"b\", \"a\", \"a\", \"b\"],\n",
    "          [\"c\", \"b\", \"b\", \"a\", \"b\", \"b\"],\n",
    "          [\"b\", \"a\", \"b\", \"a\", \"a\", \"b\"],\n",
    "          [\"b\", \"a\", \"b\", \"a\", \"b\", \"b\"],\n",
    "          [\"a\", \"a\", \"b\", \"a\", \"a\", \"a\"],\n",
    "          [\"a\", \"b\", \"b\", \"a\", \"a\", \"b\"]]\n",
    "\n",
    "matrix_np = np.asarray(matrix)\n",
    "numeric_matrix = np.where(matrix_np==\"a\", 255, 0).astype(np.uint8)\n",
    "mask = np.zeros(np.asarray(numeric_matrix.shape)+2, dtype=np.uint8)\n",
    "start_pt = (0,0)\n",
    "if matrix_np[start_pt]:\n",
    "  cv2.floodFill(numeric_matrix, mask, start_pt, 255, flags=4)\n",
    "mask = mask[1:-1, 1:-1]\n",
    "matrix_np[mask==1] = \"c\"\n",
    "matrix = matrix_np.tolist()"
   ]
  },
  {
   "cell_type": "code",
   "execution_count": 71,
   "id": "d489412b-28bd-42ee-840d-5528d2d22f8f",
   "metadata": {},
   "outputs": [
    {
     "data": {
      "text/plain": [
       "array([[1, 1, 1, 0, 0, 0],\n",
       "       [1, 1, 1, 0, 0, 0],\n",
       "       [1, 0, 1, 0, 0, 0],\n",
       "       [1, 0, 1, 0, 0, 0],\n",
       "       [0, 0, 1, 0, 0, 0],\n",
       "       [0, 1, 1, 0, 0, 0]], dtype=uint8)"
      ]
     },
     "execution_count": 71,
     "metadata": {},
     "output_type": "execute_result"
    }
   ],
   "source": [
    "mask"
   ]
  },
  {
   "cell_type": "code",
   "execution_count": 80,
   "id": "6ad68e90-42f3-45ad-a55f-c5bd3f85be9f",
   "metadata": {},
   "outputs": [
    {
     "data": {
      "text/plain": [
       "array([  0, 255], dtype=uint8)"
      ]
     },
     "execution_count": 80,
     "metadata": {},
     "output_type": "execute_result"
    }
   ],
   "source": [
    "np.unique(numeric_matrix)"
   ]
  },
  {
   "cell_type": "code",
   "execution_count": 79,
   "id": "e5d4181c-f085-435a-83d8-de4920c71347",
   "metadata": {},
   "outputs": [
    {
     "data": {
      "text/plain": [
       "array([  0, 255], dtype=uint8)"
      ]
     },
     "execution_count": 79,
     "metadata": {},
     "output_type": "execute_result"
    }
   ],
   "source": [
    "np.unique(res)"
   ]
  },
  {
   "cell_type": "code",
   "execution_count": null,
   "id": "1b34898b-a924-452b-88d1-cba995e9a554",
   "metadata": {},
   "outputs": [],
   "source": []
  }
 ],
 "metadata": {
  "kernelspec": {
   "display_name": "Python 3",
   "language": "python",
   "name": "python3"
  },
  "language_info": {
   "codemirror_mode": {
    "name": "ipython",
    "version": 3
   },
   "file_extension": ".py",
   "mimetype": "text/x-python",
   "name": "python",
   "nbconvert_exporter": "python",
   "pygments_lexer": "ipython3",
   "version": "3.9.13"
  }
 },
 "nbformat": 4,
 "nbformat_minor": 5
}
