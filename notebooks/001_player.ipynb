{
 "cells": [
  {
   "cell_type": "code",
   "execution_count": 1,
   "id": "14bfe0d8-dc24-448a-b8d2-5374b4b078d7",
   "metadata": {},
   "outputs": [],
   "source": [
    "import numpy as np\n",
    "import cv2\n",
    "from pprint import pprint\n",
    "import ffmpeg\n",
    "import sys\n",
    "import matplotlib.pyplot as plt\n",
    "from IPython.display import clear_output\n",
    "import time\n",
    "\n",
    "from scipy.ndimage import gaussian_filter\n",
    "from sklearn.cluster import KMeans\n",
    "\n",
    "sys.path.append('../')\n",
    "\n",
    "from precondition import cut_first_minute, play_sequence, show_frame\n",
    "from detect_player import threshold_filter, filter_sequence, find_player_filter, get_player_coords\n",
    "import importlib"
   ]
  },
  {
   "cell_type": "code",
   "execution_count": 2,
   "id": "6ded2b9c-50aa-4816-b7aa-ac01cfaaabc8",
   "metadata": {},
   "outputs": [],
   "source": [
    "filename = \"/home/dmitry/work/open_source_stuff/blitz_DS/replay_videos/test_2.mp4\""
   ]
  },
  {
   "cell_type": "code",
   "execution_count": 3,
   "id": "af905320-6d10-4dfb-bb8b-c991144a2184",
   "metadata": {},
   "outputs": [
    {
     "name": "stdout",
     "output_type": "stream",
     "text": [
      "Battle start frame:  220\n"
     ]
    }
   ],
   "source": [
    "seq = cut_first_minute(filename)"
   ]
  },
  {
   "cell_type": "code",
   "execution_count": 4,
   "id": "a5b6a684-e1d4-417e-8a98-52cb63622502",
   "metadata": {},
   "outputs": [],
   "source": [
    "player_blob = filter_sequence(filter_sequence(seq, threshold_filter), find_player_filter)"
   ]
  },
  {
   "cell_type": "code",
   "execution_count": 5,
   "id": "05b4cbe6-8a31-4e98-a03f-c7d8272264ae",
   "metadata": {},
   "outputs": [],
   "source": [
    "coords = []\n",
    "for i in range(player_blob.shape[-1]):\n",
    "    coords.append(get_player_coords(player_blob[:,:,0,i]))\n",
    "coords = np.array(coords)"
   ]
  },
  {
   "cell_type": "code",
   "execution_count": 6,
   "id": "90f44c62-c19f-4740-96cf-55b72c2da7de",
   "metadata": {},
   "outputs": [
    {
     "data": {
      "image/png": "[encoded data removed]",
      "text/plain": [
       "<Figure size 500x500 with 1 Axes>"
      ]
     },
     "metadata": {},
     "output_type": "display_data"
    }
   ],
   "source": [
    "plt.figure(figsize = (5,5))\n",
    "plt.scatter(coords[:,1], 272 - coords[:,0])\n",
    "plt.xlim(0, 272)\n",
    "plt.ylim(0, 272)\n",
    "plt.show()"
   ]
  }
 ],
 "metadata": {
  "kernelspec": {
   "display_name": "Python 3",
   "language": "python",
   "name": "python3"
  },
  "language_info": {
   "codemirror_mode": {
    "name": "ipython",
    "version": 3
   },
   "file_extension": ".py",
   "mimetype": "text/x-python",
   "name": "python",
   "nbconvert_exporter": "python",
   "pygments_lexer": "ipython3",
   "version": "3.9.13"
  }
 },
 "nbformat": 4,
 "nbformat_minor": 5
}
