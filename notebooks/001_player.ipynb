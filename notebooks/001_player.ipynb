{
 "cells": [
  {
   "cell_type": "code",
   "execution_count": 1,
   "id": "14bfe0d8-dc24-448a-b8d2-5374b4b078d7",
   "metadata": {},
   "outputs": [],
   "source": [
    "import numpy as np\n",
    "import cv2\n",
    "from pprint import pprint\n",
    "import ffmpeg\n",
    "import sys\n",
    "import matplotlib.pyplot as plt\n",
    "from IPython.display import clear_output\n",
    "import time\n",
    "\n",
    "from scipy.ndimage import gaussian_filter\n",
    "from sklearn.cluster import KMeans\n",
    "\n",
    "sys.path.append('../')\n",
    "\n",
    "from precondition import cut_first_minute, play_sequence, show_frame\n",
    "\n",
    "import importlib\n",
    "importlib.reload(sys.modules['precondition'])\n",
    "from precondition import cut_first_minute, play_sequence, show_frame"
   ]
  },
  {
   "cell_type": "code",
   "execution_count": 20,
   "id": "ac021c78-721d-417b-b8fb-c4f5bd0efaf4",
   "metadata": {},
   "outputs": [],
   "source": [
    "%matplotlib inline"
   ]
  },
  {
   "cell_type": "code",
   "execution_count": 3,
   "id": "fc54a855-c2b8-4fd4-98e3-aee222d2f14e",
   "metadata": {},
   "outputs": [],
   "source": [
    "filename = \"/home/dmitry/work/open_source_stuff/blitz_DS/replay_videos/test_2.mp4\""
   ]
  },
  {
   "cell_type": "code",
   "execution_count": 4,
   "id": "3678c6cb-e2e9-4893-9f02-f9f02cad88a5",
   "metadata": {},
   "outputs": [],
   "source": [
    "def threshold_filter(frame, threshold = 200, mode = 'gray'):\n",
    "    if mode == 'gray':\n",
    "        return np.tile(np.expand_dims(frame.mean(axis = 2), axis = 2), 3) > threshold\n",
    "    \n",
    "def filter_sequence(sequence, filter_function):\n",
    "    result = np.zeros_like(sequence)\n",
    "    for i in range(sequence.shape[-1]):\n",
    "        result[:,:,:,i] = filter_function(sequence[:,:,:,i])\n",
    "    return result\n",
    "\n",
    "def find_player_filter(frame, threshold = 0.4, mode = 'gray'):\n",
    "    if mode == 'gray':\n",
    "        tmp = gaussian_filter(frame.astype(float), sigma = (5,5,0))\n",
    "        return tmp > threshold\n",
    "    \n",
    "def get_player_coords(blob_frame):\n",
    "    return np.array(np.where(blob_frame)).mean(axis = 1)"
   ]
  },
  {
   "cell_type": "code",
   "execution_count": 5,
   "id": "af905320-6d10-4dfb-bb8b-c991144a2184",
   "metadata": {},
   "outputs": [
    {
     "name": "stdout",
     "output_type": "stream",
     "text": [
      "Battle start frame:  220\n"
     ]
    }
   ],
   "source": [
    "seq = cut_first_minute(filename)"
   ]
  },
  {
   "cell_type": "code",
   "execution_count": 6,
   "id": "a5b6a684-e1d4-417e-8a98-52cb63622502",
   "metadata": {},
   "outputs": [],
   "source": [
    "player_blob = filter_sequence(filter_sequence(seq, threshold_filter), find_player_filter)"
   ]
  },
  {
   "cell_type": "code",
   "execution_count": 7,
   "id": "05b4cbe6-8a31-4e98-a03f-c7d8272264ae",
   "metadata": {},
   "outputs": [],
   "source": [
    "coords = []\n",
    "for i in range(player_blob.shape[-1]):\n",
    "    coords.append(get_player_coords(player_blob[:,:,0,i]))\n",
    "coords = np.array(coords)"
   ]
  }
 ],
 "metadata": {
  "kernelspec": {
   "display_name": "Python 3",
   "language": "python",
   "name": "python3"
  },
  "language_info": {
   "codemirror_mode": {
    "name": "ipython",
    "version": 3
   },
   "file_extension": ".py",
   "mimetype": "text/x-python",
   "name": "python",
   "nbconvert_exporter": "python",
   "pygments_lexer": "ipython3",
   "version": "3.9.13"
  }
 },
 "nbformat": 4,
 "nbformat_minor": 5
}
