{
 "cells": [
  {
   "cell_type": "code",
   "execution_count": 195,
   "id": "14bfe0d8-dc24-448a-b8d2-5374b4b078d7",
   "metadata": {},
   "outputs": [],
   "source": [
    "import numpy as np\n",
    "import cv2\n",
    "from pprint import pprint\n",
    "import ffmpeg\n",
    "import sys\n",
    "import matplotlib.pyplot as plt\n",
    "from IPython.display import clear_output\n",
    "import time"
   ]
  },
  {
   "cell_type": "code",
   "execution_count": 2,
   "id": "fc54a855-c2b8-4fd4-98e3-aee222d2f14e",
   "metadata": {},
   "outputs": [],
   "source": [
    "filename = \"/home/dmitry/work/open_source_stuff/blitz_DS/replay_videos/test.mp4\" #5396 frames 4 minutes 0 seconds"
   ]
  },
  {
   "cell_type": "code",
   "execution_count": 287,
   "id": "d8b05483-4d1d-402e-af6a-48511db62576",
   "metadata": {},
   "outputs": [],
   "source": [
    "def count_frames(filename):\n",
    "    counter = 0\n",
    "    cap = cv2.VideoCapture(filename)\n",
    "    ret = 1\n",
    "    while(ret):\n",
    "        ret, _ = cap.read()\n",
    "        counter += 1\n",
    "    counter -= 1 #the last cycle passed with no frame\n",
    "    cap.release()\n",
    "    return counter\n",
    "\n",
    "def get_nbframes(filename):\n",
    "    return int(ffmpeg.probe(filename)['streams'][1]['nb_frames'])\n",
    "\n",
    "def get_frame(filename, n_frame):\n",
    "    cap = cv2.VideoCapture(filename)\n",
    "    for i in range(n_frame - 1):\n",
    "        cap.read()\n",
    "    _, frame = cap.read()\n",
    "    return frame\n",
    "\n",
    "def show_frame(frame, time = 5000):\n",
    "    cv2.imshow(\"frame\", frame)\n",
    "    cv2.waitKey(time)\n",
    "    cv2.destroyAllWindows()\n",
    "    \n",
    "def get_similarity(filename):\n",
    "    bins = 60\n",
    "    histSize = [bins]\n",
    "    ranges = [0, 255]\n",
    "\n",
    "    reference = cv2.imread(\"test_frame.png\")[0:272, 276:552]\n",
    "    ref_hsv = cv2.cvtColor(reference, cv2.COLOR_BGR2HSV)\n",
    "    ref_hue_hist = cv2.calcHist(ref_hsv, [0], None, histSize, ranges)\n",
    "\n",
    "    hue_similarities = []\n",
    "    cap = cv2.VideoCapture(filename)\n",
    "    for i in range(get_nbframes(filename)):\n",
    "        #print(i, end = None)\n",
    "        _, frame = cap.read()\n",
    "        ROI = frame[0:272, 276:552]\n",
    "        ROI_hsv = cv2.cvtColor(ROI, cv2.COLOR_BGR2HSV)\n",
    "        hue_hist = cv2.calcHist(ROI_hsv, [0], None, histSize, ranges)\n",
    "        hue_similarity = cv2.compareHist(hue_hist, ref_hue_hist, method = 0)\n",
    "\n",
    "        hue_similarities.append(hue_similarity)\n",
    "        #clear_output(wait = True)\n",
    "    cap.release()\n",
    "    return hue_similarities\n",
    "\n",
    "def find_battle_start(filename, threshold = 0.2):\n",
    "    bins = 60\n",
    "    histSize = [bins]\n",
    "    ranges = [0, 255]\n",
    "\n",
    "    reference = cv2.imread(\"test_frame.png\")[0:272, 276:552]\n",
    "    ref_hsv = cv2.cvtColor(reference, cv2.COLOR_BGR2HSV)\n",
    "    ref_hue_hist = cv2.calcHist(ref_hsv, [0], None, histSize, ranges)\n",
    "\n",
    "    hue_similarities = []\n",
    "    cap = cv2.VideoCapture(filename)\n",
    "    status = True\n",
    "    similarity = 0\n",
    "    while(status and similarity < 0.2):\n",
    "        status, frame = cap.read()\n",
    "        ROI = frame[0:272, 276:552]\n",
    "        ROI_hsv = cv2.cvtColor(ROI, cv2.COLOR_BGR2HSV)\n",
    "        hue_hist = cv2.calcHist(ROI_hsv, [0], None, histSize, ranges)\n",
    "        similarity = cv2.compareHist(hue_hist, ref_hue_hist, method = 0)\n",
    "    return cap\n",
    "\n",
    "def cut_first_minute(filename):\n",
    "    cap = find_battle_start(filename)\n",
    "    n_frames = 60 * 23\n",
    "    sequence = np.zeros((272, 552 - 276, 3, n_frames))\n",
    "    for i in range(60 * 23):\n",
    "        _, frame = cap.read()\n",
    "        sequence[:,:,:,i] = frame[0:272, 276:552, :].copy()\n",
    "        cv2.imshow(\"frame\", seq[:,:,:,i])\n",
    "        if cv2.waitKey(25) & 0xFF == ord('q'):\n",
    "            break\n",
    "    cv2.destroyAllWindows()\n",
    "    return sequence\n",
    "\n",
    "def play_sequence(seq):\n",
    "    n_frames = seq.shape[-1]\n",
    "    for i in range(n_frames):\n",
    "        cv2.imshow(\"sequence\", seq[:,:,:,i])\n",
    "        if cv2.waitKey(25) & 0xFF == ord('q'):\n",
    "            break\n",
    "    cv2.destroyAllWindows()\n",
    "    return 0"
   ]
  },
  {
   "cell_type": "code",
   "execution_count": 288,
   "id": "af905320-6d10-4dfb-bb8b-c991144a2184",
   "metadata": {},
   "outputs": [],
   "source": [
    "seq = cut_first_minute(filename)"
   ]
  },
  {
   "cell_type": "code",
   "execution_count": 266,
   "id": "2bc8293d-75cd-477f-9c83-447c71e0c2e6",
   "metadata": {},
   "outputs": [
    {
     "data": {
      "text/plain": [
       "0"
      ]
     },
     "execution_count": 266,
     "metadata": {},
     "output_type": "execute_result"
    }
   ],
   "source": [
    "play_sequence(seq)"
   ]
  },
  {
   "cell_type": "code",
   "execution_count": 278,
   "id": "5910e4b5-8f51-4955-87a8-10d00e27aa5b",
   "metadata": {},
   "outputs": [],
   "source": [
    "cap = find_battle_start(filename)"
   ]
  },
  {
   "cell_type": "code",
   "execution_count": 279,
   "id": "83eb0a67-0e27-4967-b614-b4fa8fd8e593",
   "metadata": {},
   "outputs": [],
   "source": [
    "_, frame = cap.read()\n",
    "show_frame(frame)"
   ]
  },
  {
   "cell_type": "code",
   "execution_count": 281,
   "id": "edeec283-9cbf-4ad1-b9b3-8baa7d5bbd6e",
   "metadata": {},
   "outputs": [],
   "source": [
    "show_frame(seq[:,:,:,0])"
   ]
  },
  {
   "cell_type": "code",
   "execution_count": 275,
   "id": "34064eb9-4f5b-465b-9338-fa07d8441359",
   "metadata": {},
   "outputs": [
    {
     "data": {
      "text/plain": [
       "255.0"
      ]
     },
     "execution_count": 275,
     "metadata": {},
     "output_type": "execute_result"
    }
   ],
   "source": [
    "seq[:,:,:,0].max()"
   ]
  },
  {
   "cell_type": "code",
   "execution_count": null,
   "id": "230bcb06-0356-4572-9736-3c506e300acd",
   "metadata": {},
   "outputs": [
    {
     "data": {
      "text/plain": [
       "True"
      ]
     },
     "execution_count": 74,
     "metadata": {},
     "output_type": "execute_result"
    }
   ],
   "source": [
    "cv2.imwrite(\"test_frame.png\", frame)"
   ]
  },
  {
   "cell_type": "code",
   "execution_count": null,
   "id": "75d7a07c-9554-4aa8-84e9-41e3ed69942f",
   "metadata": {},
   "outputs": [
    {
     "data": {
      "text/plain": [
       "144"
      ]
     },
     "execution_count": 12,
     "metadata": {},
     "output_type": "execute_result"
    }
   ],
   "source": [
    "cap = cv2.VideoCapture(filename)\n",
    "for i in range("
   ]
  },
  {
   "cell_type": "code",
   "execution_count": null,
   "id": "835db475-8188-4018-889b-6d7d346c2041",
   "metadata": {},
   "outputs": [],
   "source": [
    "cv2.imshow(\"frame\", frame[300:500, 1000:1500])\n",
    "cv2.waitKey(5000)\n",
    "cv2.destroyAllWindows()"
   ]
  },
  {
   "cell_type": "code",
   "execution_count": 63,
   "id": "9afd6127-3546-4846-aa1c-80680759b415",
   "metadata": {},
   "outputs": [],
   "source": [
    "display = cv2.resize(frame, (800, 360))"
   ]
  },
  {
   "cell_type": "code",
   "execution_count": 104,
   "id": "d9b91b4e-8554-4d27-93f6-70dacfaa9024",
   "metadata": {},
   "outputs": [],
   "source": [
    "cv2.destroyAllWindows()"
   ]
  },
  {
   "cell_type": "code",
   "execution_count": 69,
   "id": "dedde2f5-277d-4311-94b1-8ece6b6d9457",
   "metadata": {},
   "outputs": [
    {
     "data": {
      "text/plain": [
       "5397"
      ]
     },
     "execution_count": 69,
     "metadata": {},
     "output_type": "execute_result"
    }
   ],
   "source": [
    "count_frames(\"/home/dmitry/work/open_source_stuff/blitz_DS/replay_videos/test.mp4\")"
   ]
  },
  {
   "cell_type": "code",
   "execution_count": null,
   "id": "5406e3b8-0bcd-457b-840f-bac25fd5a791",
   "metadata": {},
   "outputs": [],
   "source": []
  }
 ],
 "metadata": {
  "kernelspec": {
   "display_name": "Python 3",
   "language": "python",
   "name": "python3"
  },
  "language_info": {
   "codemirror_mode": {
    "name": "ipython",
    "version": 3
   },
   "file_extension": ".py",
   "mimetype": "text/x-python",
   "name": "python",
   "nbconvert_exporter": "python",
   "pygments_lexer": "ipython3",
   "version": "3.9.13"
  }
 },
 "nbformat": 4,
 "nbformat_minor": 5
}
